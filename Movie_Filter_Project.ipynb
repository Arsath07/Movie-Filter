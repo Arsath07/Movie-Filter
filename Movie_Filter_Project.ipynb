{
  "nbformat": 4,
  "nbformat_minor": 0,
  "metadata": {
    "colab": {
      "provenance": [],
      "authorship_tag": "ABX9TyPWpzwmUiDvOggPXoy88v7a",
      "include_colab_link": true
    },
    "kernelspec": {
      "name": "python3",
      "display_name": "Python 3"
    },
    "language_info": {
      "name": "python"
    }
  },
  "cells": [
    {
      "cell_type": "markdown",
      "metadata": {
        "id": "view-in-github",
        "colab_type": "text"
      },
      "source": [
        "<a href=\"https://colab.research.google.com/github/Arsath07/Movie-Filter-/blob/main/Movie_Filter_Project.ipynb\" target=\"_parent\"><img src=\"https://colab.research.google.com/assets/colab-badge.svg\" alt=\"Open In Colab\"/></a>"
      ]
    },
    {
      "cell_type": "code",
      "execution_count": 9,
      "metadata": {
        "id": "bajRhiCdgTRg"
      },
      "outputs": [],
      "source": [
        "#importing libraries\n",
        "import numpy as np\n",
        "import pandas as pd"
      ]
    },
    {
      "cell_type": "code",
      "source": [
        "#defining Sorting function accordind to genre\n",
        "\n",
        "def moviefilter(G_list, R_list, N_list, C_list, Y_list, D_list, P_list, random):\n",
        "\n",
        "  EL = [] #empty list to store index values\n",
        "  ELM = [] #empty list to store name\n",
        "  ELR = [] #empty list to store rating values\n",
        "  ELG = [] #empty list to store genre\n",
        "  ELC = [] #empty list to store cast\n",
        "  ELY = [] #empty list to store year\n",
        "  ELD = [] #empty list to store director\n",
        "  ELP = [] #empty list to store company\n",
        "  AEL = [] # just to refer empty set\n",
        "  FD = {} # final dictionary\n",
        "\n",
        "  GN = input(\"Search Here: \") # genre name input\n",
        "  GN = GN.capitalize()\n",
        "  GS = int(len(G_list))   # variable getting length of list\n",
        "\n",
        "  # collecting the movie with input Genre\n",
        "\n",
        "  for GS in range(0,GS):\n",
        "    # Checking if that genre is available in dataset\n",
        "    if GN in str(random[GS]).capitalize():\n",
        "      EL.append(GS) # appending the empty list EL with index values\n",
        "\n",
        "    else:\n",
        "      continue\n",
        "\n",
        "  # checking is any movie found\n",
        "\n",
        "  if EL == AEL:\n",
        "    print(\"=\"*60)\n",
        "    print(\"Oops! No movies found or maybe incorrect input\")\n",
        "    print(\"=\"*60)\n",
        "    exit(1)\n",
        "\n",
        "  else:\n",
        "      # collecting the rating of those movies\n",
        "      for index in EL:\n",
        "          # filling the empty list of movie name, movie rating, movie genre, cast, year, director and company\n",
        "          ELM.append(N_list[index]) # name\n",
        "          ELR.append(R_list[index]) # rating\n",
        "          ELG.append(G_list[index]) # genre\n",
        "          ELC.append(C_list[index]) # cast\n",
        "          ELY.append(Y_list[index]) # year\n",
        "          ELD.append(D_list[index]) # director\n",
        "          ELP.append(P_list[index]) # company\n",
        "\n",
        "          # creating dataframe and adding index by 1 to start from value 1\n",
        "          a = pd.DataFrame({\"MOVIES\":ELM, \"RATING\":ELR, \"DIRECTOR\":ELD, \"YEAR\":ELY, \"CAST\":ELC, \"COMPANY\":ELP})\n",
        "          a = a.sort_values(by=[\"RATING\"], ascending = False, ignore_index = True )\n",
        "          a.index = a.index + 1\n",
        "\n",
        "      # displaying the final table\n",
        "      display(a)\n",
        "\n",
        "      # clearing all list\n",
        "      ELM.clear()\n",
        "      ELR.clear()\n",
        "      ELG.clear()\n",
        "      ELC.clear()\n",
        "      ELY.clear()\n",
        "      ELD.clear()\n",
        "      ELP.clear()\n"
      ],
      "metadata": {
        "id": "lox5FF-riiQc"
      },
      "execution_count": 8,
      "outputs": []
    },
    {
      "cell_type": "code",
      "source": [
        "# loop menu function\n",
        "\n",
        "def menu(G_list, R_list, N_list, C_list, Y_list, D_list, P_list):\n",
        "\n",
        "  print(\"WELCOME TO MOVIE RECOMMENDATION MODEL\")\n",
        "  print(60*\"-\")\n",
        "\n",
        "\n",
        "  while True:\n",
        "\n",
        "    # prompting for input of basis\n",
        "    print(80*\"-\")\n",
        "    print(\"Type a number terms you want to filter movies \")\n",
        "    print(\"1)Movie Name 2)Genre 3)Cast 4)Year 5)Director 6)Company\")\n",
        "    print(\"Type '7' to exit\")\n",
        "    print(80*\"-\")\n",
        "    inp_n = input(\"Type here:\") # getting input\n",
        "    print(80*\"-\")\n",
        "\n",
        "    match inp_n:\n",
        "\n",
        "      # case for filer by movie name\n",
        "      case \"1\":\n",
        "        moviefilter(G_list, R_list, N_list, C_list, Y_list, D_list, P_list, N_list)\n",
        "\n",
        "      # case for filer by Genre\n",
        "      case \"2\":\n",
        "        moviefilter(G_list, R_list, N_list, C_list, Y_list, D_list, P_list, G_list)\n",
        "\n",
        "      # case for filer by Cast\n",
        "      case \"3\":\n",
        "        moviefilter(G_list, R_list, N_list, C_list, Y_list, D_list, P_list, C_list)\n",
        "\n",
        "\n",
        "      # case for filer by year\n",
        "      case \"4\":\n",
        "        moviefilter(G_list, R_list, N_list, C_list, Y_list, D_list, P_list, Y_list)\n",
        "\n",
        "      # case for filer by Director\n",
        "      case \"5\":\n",
        "        moviefilter(G_list, R_list, N_list, C_list, Y_list, D_list, P_list, D_list)\n",
        "\n",
        "      # case for filer by production company\n",
        "      case \"6\":\n",
        "        moviefilter(G_list, R_list, N_list, C_list, Y_list, D_list, P_list, P_list)\n",
        "\n",
        "      # case for exit\n",
        "      case \"7\":\n",
        "        break\n",
        "\n",
        "      #case for invalid input\n",
        "      case _:\n",
        "        print(\"Inavlid Input\")\n",
        "        continue"
      ],
      "metadata": {
        "id": "lZrdcRG8jH26"
      },
      "execution_count": 7,
      "outputs": []
    },
    {
      "cell_type": "code",
      "source": [
        "data = pd.read_csv(\"/content/movies.csv\")"
      ],
      "metadata": {
        "id": "fef9ikjSgsDX"
      },
      "execution_count": 6,
      "outputs": []
    },
    {
      "cell_type": "code",
      "source": [
        "X = data[\"genre\"] # taking genre column  in dataset as list\n",
        "Z = data[\"name\"]  # taking name column in dataset as list\n",
        "Y = data[\"score\"] # taking score column in dataset as list\n",
        "C = data[\"star\"]  # taking star column in dataset as list\n",
        "V = data[\"year\"]  # taking year column in dataset as list\n",
        "D = data[\"director\"] # taking director column in dataset as list\n",
        "P = data[\"company\"]  # taking company column in dataset as company\n",
        "menu(X,Y,Z,C,V,D,P)\n"
      ],
      "metadata": {
        "id": "esESqPfJhOYZ"
      },
      "execution_count": null,
      "outputs": []
    }
  ]
}